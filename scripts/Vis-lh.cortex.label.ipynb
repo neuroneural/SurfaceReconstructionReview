{
 "cells": [
  {
   "cell_type": "code",
   "execution_count": 1,
   "id": "0ba9b9a4",
   "metadata": {},
   "outputs": [],
   "source": [
    "# pip install blackcellmagic\n",
    "%load_ext blackcellmagic\n",
    "\n",
    "import matplotlib.pyplot as plt\n",
    "import matplotlib as mpl\n",
    "import os\n",
    "import pickle\n",
    "import trimesh\n",
    "import pyrender\n",
    "import pyvista as pv\n",
    "\n",
    "from matplotlib.colors import ListedColormap\n",
    "import numpy as np\n",
    "import pandas as pd"
   ]
  },
  {
   "cell_type": "markdown",
   "id": "01502886",
   "metadata": {},
   "source": [
    "# label file names"
   ]
  },
  {
   "cell_type": "code",
   "execution_count": 2,
   "id": "686c01d4",
   "metadata": {},
   "outputs": [],
   "source": [
    "f1 = '../data/label/lh.cortex.label'\n",
    "f2 = '../data/label/lh.cortex.deformed.label'\n",
    "f3 = '../data/label/lh.cortex.prehires.label'\n",
    "f = '../data/label/lh.aparc.annot'"
   ]
  },
  {
   "cell_type": "markdown",
   "id": "e308a5d6",
   "metadata": {},
   "source": [
    "# read a label file"
   ]
  },
  {
   "cell_type": "markdown",
   "id": "38339fd8",
   "metadata": {},
   "source": [
    "## get lost index"
   ]
  },
  {
   "cell_type": "code",
   "execution_count": 3,
   "id": "35a21234",
   "metadata": {},
   "outputs": [],
   "source": [
    "f = \"../data/label/lh.cortex.label\"\n",
    "# f2 = '../data/label/lh.cortex.label'\n",
    "# f3 = \"../data/label/lh.cortex.deformed.label\"\n",
    "# f4 = \"../data/label/lh.cortex.prehires.label\"\n",
    "\n",
    "def show_point_cloud(f, show_mesh = False):\n",
    "    df = pd.read_csv(f, header=None, skiprows=[0, 1], sep=\" \")\n",
    "    df = df[[0, 2, 4, 6, 7]]\n",
    "    if show_mesh:\n",
    "        point_cloud = pv.PolyData(np.array(df[[2,4,6]]))\n",
    "        point_cloud.plot(eye_dome_lighting=True)\n",
    "    return df\n",
    "\n",
    "def find_missing_points(df):\n",
    "    set1 = set(df[0])\n",
    "    missed = list()\n",
    "    for i in range(121380):\n",
    "        if i not in set1:\n",
    "            missed.append(i)\n",
    "    return missed"
   ]
  },
  {
   "cell_type": "code",
   "execution_count": 4,
   "id": "4a340a24",
   "metadata": {
    "scrolled": false
   },
   "outputs": [
    {
     "data": {
      "application/vnd.jupyter.widget-view+json": {
       "model_id": "f317649a33954753bd959fd08eaec197",
       "version_major": 2,
       "version_minor": 0
      },
      "text/plain": [
       "Widget(value=\"<iframe src='http://localhost:56143/index.html?ui=P_0x7ff1006c49a0_0&reconnect=auto' style='widt…"
      ]
     },
     "metadata": {},
     "output_type": "display_data"
    }
   ],
   "source": [
    "df = show_point_cloud(f1, True)"
   ]
  },
  {
   "cell_type": "code",
   "execution_count": 6,
   "id": "6a2b7a66",
   "metadata": {},
   "outputs": [
    {
     "name": "stdout",
     "output_type": "stream",
     "text": [
      "7704\n"
     ]
    },
    {
     "data": {
      "text/plain": [
       "[39859,\n",
       " 39860,\n",
       " 39875,\n",
       " 39876,\n",
       " 40861,\n",
       " 40862,\n",
       " 40863,\n",
       " 40864,\n",
       " 40875,\n",
       " 40876,\n",
       " 40877,\n",
       " 40878,\n",
       " 40896,\n",
       " 40897,\n",
       " 40898,\n",
       " 41729,\n",
       " 41730,\n",
       " 41750,\n",
       " 41751,\n",
       " 41840]"
      ]
     },
     "execution_count": 6,
     "metadata": {},
     "output_type": "execute_result"
    }
   ],
   "source": [
    "print(len(find_missing_points(df)))\n",
    "find_missing_points(df)[:20]"
   ]
  },
  {
   "cell_type": "markdown",
   "id": "ee57bb20",
   "metadata": {},
   "source": [
    "# use nibabel to read `.annot`"
   ]
  },
  {
   "cell_type": "code",
   "execution_count": 7,
   "id": "ac00752d",
   "metadata": {},
   "outputs": [],
   "source": [
    "# pip install nibabel\n",
    "\n",
    "import nibabel as nib\n",
    "\n",
    "annot_file = '../data/label/lh.aparc.annot'\n",
    "\n",
    "labels, ctab, names = nib.freesurfer.read_annot(annot_file)"
   ]
  },
  {
   "cell_type": "code",
   "execution_count": 8,
   "id": "5fd49275",
   "metadata": {
    "scrolled": true
   },
   "outputs": [
    {
     "data": {
      "text/plain": [
       "(121381, 36, 36)"
      ]
     },
     "execution_count": 8,
     "metadata": {},
     "output_type": "execute_result"
    }
   ],
   "source": [
    "len(labels), len(ctab), len(names)"
   ]
  },
  {
   "cell_type": "code",
   "execution_count": 9,
   "id": "bf9db02d",
   "metadata": {},
   "outputs": [
    {
     "data": {
      "text/plain": [
       "[b'unknown',\n",
       " b'bankssts',\n",
       " b'caudalanteriorcingulate',\n",
       " b'caudalmiddlefrontal',\n",
       " b'corpuscallosum',\n",
       " b'cuneus',\n",
       " b'entorhinal',\n",
       " b'fusiform',\n",
       " b'inferiorparietal',\n",
       " b'inferiortemporal',\n",
       " b'isthmuscingulate',\n",
       " b'lateraloccipital',\n",
       " b'lateralorbitofrontal',\n",
       " b'lingual',\n",
       " b'medialorbitofrontal',\n",
       " b'middletemporal',\n",
       " b'parahippocampal',\n",
       " b'paracentral',\n",
       " b'parsopercularis',\n",
       " b'parsorbitalis',\n",
       " b'parstriangularis',\n",
       " b'pericalcarine',\n",
       " b'postcentral',\n",
       " b'posteriorcingulate',\n",
       " b'precentral',\n",
       " b'precuneus',\n",
       " b'rostralanteriorcingulate',\n",
       " b'rostralmiddlefrontal',\n",
       " b'superiorfrontal',\n",
       " b'superiorparietal',\n",
       " b'superiortemporal',\n",
       " b'supramarginal',\n",
       " b'frontalpole',\n",
       " b'temporalpole',\n",
       " b'transversetemporal',\n",
       " b'insula']"
      ]
     },
     "execution_count": 9,
     "metadata": {},
     "output_type": "execute_result"
    }
   ],
   "source": [
    "names"
   ]
  }
 ],
 "metadata": {
  "kernelspec": {
   "display_name": "Python 3 (ipykernel)",
   "language": "python",
   "name": "python3"
  },
  "language_info": {
   "codemirror_mode": {
    "name": "ipython",
    "version": 3
   },
   "file_extension": ".py",
   "mimetype": "text/x-python",
   "name": "python",
   "nbconvert_exporter": "python",
   "pygments_lexer": "ipython3",
   "version": "3.9.7"
  },
  "toc": {
   "base_numbering": 1,
   "nav_menu": {},
   "number_sections": true,
   "sideBar": true,
   "skip_h1_title": false,
   "title_cell": "Table of Contents",
   "title_sidebar": "Contents",
   "toc_cell": false,
   "toc_position": {
    "height": "calc(100% - 180px)",
    "left": "10px",
    "top": "150px",
    "width": "165px"
   },
   "toc_section_display": true,
   "toc_window_display": true
  },
  "varInspector": {
   "cols": {
    "lenName": 16,
    "lenType": 16,
    "lenVar": 40
   },
   "kernels_config": {
    "python": {
     "delete_cmd_postfix": "",
     "delete_cmd_prefix": "del ",
     "library": "var_list.py",
     "varRefreshCmd": "print(var_dic_list())"
    },
    "r": {
     "delete_cmd_postfix": ") ",
     "delete_cmd_prefix": "rm(",
     "library": "var_list.r",
     "varRefreshCmd": "cat(var_dic_list()) "
    }
   },
   "types_to_exclude": [
    "module",
    "function",
    "builtin_function_or_method",
    "instance",
    "_Feature"
   ],
   "window_display": false
  }
 },
 "nbformat": 4,
 "nbformat_minor": 5
}
